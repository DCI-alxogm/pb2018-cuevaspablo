{
 "cells": [
  {
   "cell_type": "code",
   "execution_count": 1,
   "metadata": {},
   "outputs": [],
   "source": [
    "import numpy as np\n",
    "import matplotlib.pyplot as plt\n",
    "%matplotlib inline "
   ]
  },
  {
   "cell_type": "code",
   "execution_count": 13,
   "metadata": {},
   "outputs": [],
   "source": [
    "c=299792458 #(m/s)\n",
    "h=6.626070040*(pow(10,-34))\n",
    "k=1.3806488*(pow(10,-23))\n",
    "v=1\n",
    "T=1"
   ]
  },
  {
   "cell_type": "code",
   "execution_count": 16,
   "metadata": {},
   "outputs": [],
   "source": [
    "def I(v,T):\n",
    "    z=((h*(pow(v,3)))/(pow(c,2)))*(1/((np.exp((h*v)/(k*T)))-1))\n",
    "    return 0\n"
   ]
  },
  {
   "cell_type": "code",
   "execution_count": 17,
   "metadata": {},
   "outputs": [],
   "source": [
    "datos=np.loadtxt('IRCF.txt')"
   ]
  },
  {
   "cell_type": "code",
   "execution_count": 22,
   "metadata": {},
   "outputs": [
    {
     "name": "stdout",
     "output_type": "stream",
     "text": [
      "[[ 2.27]\n",
      " [ 2.72]\n",
      " [ 3.18]\n",
      " [ 3.63]\n",
      " [ 4.08]\n",
      " [ 4.54]\n",
      " [ 4.99]\n",
      " [ 5.45]\n",
      " [ 5.9 ]\n",
      " [ 6.35]\n",
      " [ 6.81]\n",
      " [ 7.26]\n",
      " [ 7.71]\n",
      " [ 8.17]\n",
      " [ 8.62]\n",
      " [ 9.08]\n",
      " [ 9.53]\n",
      " [ 9.98]\n",
      " [10.44]\n",
      " [10.89]\n",
      " [11.34]\n",
      " [11.8 ]\n",
      " [12.25]\n",
      " [12.71]\n",
      " [13.16]\n",
      " [13.61]\n",
      " [14.07]\n",
      " [14.52]\n",
      " [14.97]\n",
      " [15.43]\n",
      " [15.88]\n",
      " [16.34]\n",
      " [16.79]\n",
      " [17.24]\n",
      " [17.7 ]\n",
      " [18.15]\n",
      " [18.61]\n",
      " [19.06]\n",
      " [19.51]\n",
      " [19.97]\n",
      " [20.42]\n",
      " [20.87]\n",
      " [21.33]]\n"
     ]
    }
   ],
   "source": [
    "col1=datos[:,0:1]\n",
    "print(col1)"
   ]
  },
  {
   "cell_type": "code",
   "execution_count": 23,
   "metadata": {},
   "outputs": [
    {
     "name": "stdout",
     "output_type": "stream",
     "text": [
      "[[200.723]\n",
      " [249.508]\n",
      " [293.024]\n",
      " [327.77 ]\n",
      " [354.081]\n",
      " [372.079]\n",
      " [381.493]\n",
      " [383.478]\n",
      " [378.901]\n",
      " [368.833]\n",
      " [354.063]\n",
      " [336.278]\n",
      " [316.076]\n",
      " [293.924]\n",
      " [271.432]\n",
      " [248.239]\n",
      " [225.94 ]\n",
      " [204.327]\n",
      " [183.262]\n",
      " [163.83 ]\n",
      " [145.75 ]\n",
      " [128.835]\n",
      " [113.568]\n",
      " [ 99.451]\n",
      " [ 87.036]\n",
      " [ 75.876]\n",
      " [ 65.766]\n",
      " [ 57.008]\n",
      " [ 49.223]\n",
      " [ 42.267]\n",
      " [ 36.352]\n",
      " [ 31.062]\n",
      " [ 26.58 ]\n",
      " [ 22.644]\n",
      " [ 19.255]\n",
      " [ 16.391]\n",
      " [ 13.811]\n",
      " [ 11.716]\n",
      " [  9.921]\n",
      " [  8.364]\n",
      " [  7.087]\n",
      " [  5.801]\n",
      " [  4.523]]\n"
     ]
    }
   ],
   "source": [
    "col2=datos[:,1:2]\n",
    "print(col2)"
   ]
  },
  {
   "cell_type": "code",
   "execution_count": 24,
   "metadata": {},
   "outputs": [
    {
     "name": "stdout",
     "output_type": "stream",
     "text": [
      "[[ 14.]\n",
      " [ 19.]\n",
      " [ 25.]\n",
      " [ 23.]\n",
      " [ 22.]\n",
      " [ 21.]\n",
      " [ 18.]\n",
      " [ 18.]\n",
      " [ 16.]\n",
      " [ 14.]\n",
      " [ 13.]\n",
      " [ 12.]\n",
      " [ 11.]\n",
      " [ 10.]\n",
      " [ 11.]\n",
      " [ 12.]\n",
      " [ 14.]\n",
      " [ 16.]\n",
      " [ 18.]\n",
      " [ 22.]\n",
      " [ 22.]\n",
      " [ 23.]\n",
      " [ 23.]\n",
      " [ 23.]\n",
      " [ 22.]\n",
      " [ 21.]\n",
      " [ 20.]\n",
      " [ 19.]\n",
      " [ 19.]\n",
      " [ 19.]\n",
      " [ 21.]\n",
      " [ 23.]\n",
      " [ 26.]\n",
      " [ 28.]\n",
      " [ 30.]\n",
      " [ 32.]\n",
      " [ 33.]\n",
      " [ 35.]\n",
      " [ 41.]\n",
      " [ 55.]\n",
      " [ 88.]\n",
      " [155.]\n",
      " [282.]]\n"
     ]
    }
   ],
   "source": [
    "col3=datos[:,3:4]\n",
    "print(col3)"
   ]
  },
  {
   "cell_type": "code",
   "execution_count": 28,
   "metadata": {},
   "outputs": [
    {
     "data": {
      "text/plain": [
       "[<matplotlib.lines.Line2D at 0x7fb3d60af9b0>]"
      ]
     },
     "execution_count": 28,
     "metadata": {},
     "output_type": "execute_result"
    },
    {
     "data": {
      "image/png": "[encoded data removed]",
      "text/plain": [
       "<Figure size 432x288 with 1 Axes>"
      ]
     },
     "metadata": {},
     "output_type": "display_data"
    }
   ],
   "source": [
    "plt.plot(datos[:,0:1],datos[:,1:2])"
   ]
  },
  {
   "cell_type": "code",
   "execution_count": 29,
   "metadata": {},
   "outputs": [
    {
     "data": {
      "text/plain": [
       "[<matplotlib.lines.Line2D at 0x7fb3d3b7b4a8>]"
      ]
     },
     "execution_count": 29,
     "metadata": {},
     "output_type": "execute_result"
    },
    {
     "data": {
      "image/png": "[encoded data removed]",
      "text/plain": [
       "<Figure size 432x288 with 1 Axes>"
      ]
     },
     "metadata": {},
     "output_type": "display_data"
    }
   ],
   "source": []
  },
  {
   "cell_type": "code",
   "execution_count": null,
   "metadata": {},
   "outputs": [],
   "source": []
  }
 ],
 "metadata": {
  "kernelspec": {
   "display_name": "Python 2",
   "language": "python",
   "name": "python2"
  },
  "language_info": {
   "codemirror_mode": {
    "name": "ipython",
    "version": 3
   },
   "file_extension": ".py",
   "mimetype": "text/x-python",
   "name": "python",
   "nbconvert_exporter": "python",
   "pygments_lexer": "ipython3",
   "version": "3.6.6"
  }
 },
 "nbformat": 4,
 "nbformat_minor": 2
}
